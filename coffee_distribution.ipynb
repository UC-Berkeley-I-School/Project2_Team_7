{
 "cells": [
  {
   "cell_type": "code",
   "execution_count": 36,
   "metadata": {},
   "outputs": [],
   "source": [
    "import pandas as pd\n",
    "import numpy as np\n",
    "from datetime import datetime\n",
    "\n",
    "pd.set_option('display.max_rows', 1000)\n",
    "pd.options.display.float_format = '{:,.2f}'.format\n",
    "\n",
    "# d = lambda x: datetime.strptime(x, '%d-%b-%y')\n",
    "\n",
    "\n",
    "coffee_dist = pd.read_csv('/Users/moezhudda/Workspace/200/github/Project2_Team_7/psd_coffee.csv', index_col=False)\n",
    "coffee_review = pd.read_csv('/Users/moezhudda/Workspace/200/github/Project2_Team_7/coffee_reviews_supplemental.csv', index_col=False)"
   ]
  },
  {
   "cell_type": "code",
   "execution_count": 37,
   "metadata": {},
   "outputs": [],
   "source": [
    "coffee_dist.columns = coffee_dist.columns.str.replace(' ', '_')\n",
    "\n",
    "\n",
    "coffee_dist = coffee_dist[['Country', 'Year', 'Arabica_Production', 'Robusta_Production', 'Other_Production', 'Production', 'Total_Supply', 'Total_Distribution', \n",
    "            'Bean_Exports', 'Bean_Imports','Exports','Imports',\n",
    "            'Roast_&_Ground_Exports','Roast_&_Ground_Imports', 'Soluble_Exports','Soluble_Imports', 'Domestic_Consumption']]\n",
    "\n"
   ]
  },
  {
   "cell_type": "code",
   "execution_count": 38,
   "metadata": {},
   "outputs": [
    {
     "data": {
      "text/plain": [
       "Country\n",
       "Albania                           0\n",
       "Algeria                           0\n",
       "Angola                        55827\n",
       "Argentina                         0\n",
       "Armenia                           0\n",
       "Australia                         0\n",
       "Benin                           869\n",
       "Bolivia                        7362\n",
       "Bosnia and Herzegovina            0\n",
       "Brazil                      2221150\n",
       "Burundi                       22106\n",
       "Cameroon                      67286\n",
       "Canada                            0\n",
       "Central African Republic       8759\n",
       "Chile                             0\n",
       "China                         27974\n",
       "Colombia                     705440\n",
       "Congo (Brazzaville)             860\n",
       "Congo (Kinshasa)              56963\n",
       "Costa Rica                   113218\n",
       "Cote d'Ivoire                201501\n",
       "Croatia                           0\n",
       "Cuba                          20339\n",
       "Dominican Republic            38720\n",
       "Ecuador                       69006\n",
       "Egypt                             0\n",
       "El Salvador                  121136\n",
       "Equatorial Guinea              1944\n",
       "Ethiopia                     259389\n",
       "European Union                    0\n",
       "Gabon                           608\n",
       "Georgia                           0\n",
       "Ghana                          2346\n",
       "Guatemala                    197301\n",
       "Guinea                        11341\n",
       "Guyana                          468\n",
       "Haiti                         26301\n",
       "Honduras                     161341\n",
       "India                        211655\n",
       "Indonesia                    412023\n",
       "Iran                              0\n",
       "Jamaica                        1691\n",
       "Japan                             0\n",
       "Jordan                            0\n",
       "Kazakhstan                        0\n",
       "Kenya                         70944\n",
       "Korea, South                      0\n",
       "Kosovo                            0\n",
       "Laos                          12338\n",
       "Liberia                        3331\n",
       "Madagascar                    49637\n",
       "Malawi                         1860\n",
       "Malaysia                      37694\n",
       "Mexico                       253463\n",
       "Montenegro                        0\n",
       "Morocco                           0\n",
       "New Caledonia                   575\n",
       "New Zealand                       0\n",
       "Nicaragua                     78680\n",
       "Nigeria                        2863\n",
       "North Macedonia                   0\n",
       "Norway                            0\n",
       "Panama                         7902\n",
       "Papua New Guinea              50647\n",
       "Paraguay                       3294\n",
       "Peru                         134088\n",
       "Philippines                   42674\n",
       "Russia                            0\n",
       "Rwanda                        21711\n",
       "Saudi Arabia                      0\n",
       "Senegal                           0\n",
       "Serbia                            0\n",
       "Sierra Leone                   5563\n",
       "Singapore                         0\n",
       "South Africa                      0\n",
       "Sri Lanka                      1863\n",
       "Switzerland                       0\n",
       "Taiwan                            0\n",
       "Tanzania                      55029\n",
       "Thailand                      38261\n",
       "Togo                          12654\n",
       "Trinidad and Tobago            1512\n",
       "Turkey                            0\n",
       "Uganda                       210125\n",
       "Ukraine                           0\n",
       "United Kingdom                    0\n",
       "United States                 11608\n",
       "Uruguay                           0\n",
       "Venezuela                     56168\n",
       "Vietnam                      601014\n",
       "Yemen                          3301\n",
       "Yemen (Sanaa)                  1911\n",
       "Zambia                         1233\n",
       "Zimbabwe                       4228\n",
       "Name: Production, dtype: int64"
      ]
     },
     "execution_count": 38,
     "metadata": {},
     "output_type": "execute_result"
    }
   ],
   "source": [
    "#Production\n",
    "coffee_dist.groupby(['Country']).Production.sum()"
   ]
  },
  {
   "cell_type": "code",
   "execution_count": 56,
   "metadata": {},
   "outputs": [
    {
     "data": {
      "text/plain": [
       "rating\n",
       "84      1\n",
       "86      2\n",
       "87      3\n",
       "88      3\n",
       "89      3\n",
       "90     43\n",
       "91     60\n",
       "92    184\n",
       "93    359\n",
       "94    357\n",
       "95    177\n",
       "96     44\n",
       "97     10\n",
       "Name: rating, dtype: int64"
      ]
     },
     "execution_count": 56,
     "metadata": {},
     "output_type": "execute_result"
    }
   ],
   "source": [
    "#num of countries that have these ratings\n",
    "coffee_review.groupby(['rating']).rating.size()"
   ]
  },
  {
   "cell_type": "code",
   "execution_count": 64,
   "metadata": {},
   "outputs": [
    {
     "data": {
      "text/plain": [
       "origin\n",
       "Tanzania                           95.00\n",
       "Panama                             94.50\n",
       "Ecuador                            94.00\n",
       "Kenya                              93.87\n",
       "Yemen                              93.62\n",
       "Hawai'I                            93.45\n",
       "Ethiopia                           93.45\n",
       "Taiwan                             93.44\n",
       "Colombia                           93.17\n",
       "Nicaragua                          93.09\n",
       "Philippines                        93.00\n",
       "Costa Rica                         92.91\n",
       "Indonesia                          92.82\n",
       "Democratic Republic Of The Congo   92.71\n",
       "Honduras                           92.67\n",
       "El Salvador                        92.64\n",
       "Burundi                            92.50\n",
       "Peru                               92.31\n",
       "Guatemala                          92.30\n",
       "Rwanda                             92.25\n",
       "Brazil                             92.20\n",
       "Mexico                             92.00\n",
       "Uganda                             92.00\n",
       "Bolivia                            92.00\n",
       "Nepal                              91.00\n",
       "Dominican Republic                 91.00\n",
       "Thailand                           90.50\n",
       "Name: rating, dtype: float64"
      ]
     },
     "execution_count": 64,
     "metadata": {},
     "output_type": "execute_result"
    }
   ],
   "source": [
    "#mean of country rating sorted by highest\n",
    "coffee_review.groupby('origin').rating.mean().sort_values(ascending=False)"
   ]
  },
  {
   "cell_type": "code",
   "execution_count": null,
   "metadata": {},
   "outputs": [],
   "source": []
  }
 ],
 "metadata": {
  "kernelspec": {
   "display_name": "base",
   "language": "python",
   "name": "python3"
  },
  "language_info": {
   "codemirror_mode": {
    "name": "ipython",
    "version": 3
   },
   "file_extension": ".py",
   "mimetype": "text/x-python",
   "name": "python",
   "nbconvert_exporter": "python",
   "pygments_lexer": "ipython3",
   "version": "3.11.4"
  }
 },
 "nbformat": 4,
 "nbformat_minor": 2
}
